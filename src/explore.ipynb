{
    "cells": [
        {
            "cell_type": "markdown",
            "metadata": {},
            "source": [
                "# Explore here"
            ]
        },
        {
            "cell_type": "code",
            "execution_count": 2,
            "metadata": {},
            "outputs": [
                {
                    "name": "stdout",
                    "output_type": "stream",
                    "text": [
                        "<class 'pandas.core.frame.DataFrame'>\n",
                        "RangeIndex: 3140 entries, 0 to 3139\n",
                        "Columns: 108 entries, fips to Urban_rural_code\n",
                        "dtypes: float64(61), int64(45), object(2)\n",
                        "memory usage: 2.6+ MB\n"
                    ]
                }
            ],
            "source": [
                "# Your code here\n",
                "import pandas as pd\n",
                "data = pd.read_csv(\"https://raw.githubusercontent.com/4GeeksAcademy/regularized-linear-regression-project-tutorial/main/demographic_health_data.csv\")\n",
                "data_uni = data.drop_duplicates()\n",
                "data_uni.info()"
            ]
        },
        {
            "cell_type": "code",
            "execution_count": 21,
            "metadata": {},
            "outputs": [],
            "source": [
                "data.to_csv(\"../data/raw/data.csv\",index=False)"
            ]
        },
        {
            "cell_type": "code",
            "execution_count": 3,
            "metadata": {},
            "outputs": [],
            "source": [
                "import matplotlib.pyplot as plt\n",
                "import seaborn as sns\n",
                "\n",
                "col_obj = data_uni.select_dtypes(include='object').columns.tolist()\n",
                "col_num = data_uni.select_dtypes(exclude='object').columns.tolist()\n",
                "def eliminar_atipicos(datos, columnas):\n",
                "    new_data = datos\n",
                "    for i in columnas:\n",
                "        q1=new_data[i].quantile(0.25)\n",
                "        q3=new_data[i].quantile(0.75)\n",
                "        iqr = q3-q1\n",
                "        low_lim = q1 - 1.5*iqr\n",
                "        hi_lim = q3 + 1.5*iqr\n",
                "        rem = new_data[(new_data[i]>=hi_lim) | (new_data[i]< low_lim)]\n",
                "        new_data = new_data.drop(index=rem.index)\n",
                "    return new_data.copy()\n",
                "data_num_clean = eliminar_atipicos(data_uni,col_num)\n",
                "# fig, axis = plt.subplots(figsize = (106,106))\n",
                "# sns.heatmap(data_num_clean[col_num].corr(), annot = True, fmt = \".2f\")"
            ]
        },
        {
            "cell_type": "code",
            "execution_count": 17,
            "metadata": {},
            "outputs": [
                {
                    "name": "stdout",
                    "output_type": "stream",
                    "text": [
                        "Heart disease_number                          1.000000\n",
                        "COPD_number                                   0.997023\n",
                        "CKD_number                                    0.995200\n",
                        "anycondition_number                           0.993327\n",
                        "60-69                                         0.991934\n",
                        "High school diploma only 2014-18              0.991331\n",
                        "Population Aged 60+                           0.991230\n",
                        "70-79                                         0.990426\n",
                        "diabetes_number                               0.989505\n",
                        "Obesity_number                                0.989187\n",
                        "county_pop2018_18 and older                   0.987918\n",
                        "TOT_POP                                       0.987511\n",
                        "POP_ESTIMATE_2018                             0.987511\n",
                        "50-59                                         0.987303\n",
                        "Total Population                              0.986991\n",
                        "Some college or associate's degree 2014-18    0.985867\n",
                        "Civilian_labor_force_2018                     0.981817\n",
                        "Employed_2018                                 0.981331\n",
                        "80+                                           0.981259\n",
                        "40-49                                         0.981209\n",
                        "Name: Heart disease_number, dtype: float64\n"
                    ]
                }
            ],
            "source": [
                "from sklearn.preprocessing import StandardScaler\n",
                "\n",
                "scaler = StandardScaler()\n",
                "norm_features = scaler.fit_transform(data_uni[col_num])\n",
                "data_scal = pd.DataFrame(norm_features, index = data_uni.index, columns = col_num)\n",
                "data_scal[\"Heart disease_number\"] = data_uni[\"Heart disease_number\"]\n",
                "\n",
                "correlation_matrix = data_scal.corr(numeric_only=True)\n",
                "cor_target = correlation_matrix['Heart disease_number'].abs().sort_values(ascending=False)\n",
                "top_features = cor_target[cor_target > 0.5]  # puedes cambiar el umbral\n",
                "print(top_features[:20])\n",
                "data_top = data_scal[top_features[:20].index]\n",
                "X = data_top.drop(columns=[\"Heart disease_number\"])\n",
                "Y = data_scal[\"Heart disease_number\"]"
            ]
        },
        {
            "cell_type": "code",
            "execution_count": null,
            "metadata": {},
            "outputs": [
                {
                    "name": "stderr",
                    "output_type": "stream",
                    "text": [
                        "/home/vscode/.local/lib/python3.11/site-packages/sklearn/linear_model/_logistic.py:465: ConvergenceWarning: lbfgs failed to converge (status=1):\n",
                        "STOP: TOTAL NO. OF ITERATIONS REACHED LIMIT.\n",
                        "\n",
                        "Increase the number of iterations (max_iter) or scale the data as shown in:\n",
                        "    https://scikit-learn.org/stable/modules/preprocessing.html\n",
                        "Please also refer to the documentation for alternative solver options:\n",
                        "    https://scikit-learn.org/stable/modules/linear_model.html#logistic-regression\n",
                        "  n_iter_i = _check_optimize_result(\n"
                    ]
                },
                {
                    "data": {
                        "text/plain": [
                            "0.8126531760371917"
                        ]
                    },
                    "execution_count": 18,
                    "metadata": {},
                    "output_type": "execute_result"
                }
            ],
            "source": [
                "from sklearn.model_selection import train_test_split\n",
                "from sklearn.linear_model import LogisticRegression, Lasso\n",
                "from sklearn.metrics import mean_squared_error, r2_score\n",
                "\n",
                "x_train, x_test, y_train, y_test = train_test_split(X, Y, test_size=0.2, random_state=8)\n",
                "\n",
                "model = LogisticRegression()\n",
                "model.fit(x_train, y_train)\n",
                "y_pred = model.predict(x_test)\n",
                "r2_score(y_test,y_pred)"
            ]
        },
        {
            "cell_type": "code",
            "execution_count": 22,
            "metadata": {},
            "outputs": [],
            "source": [
                "x_train.to_csv(\"../data/processed/x_train.csv\", index=False)\n",
                "x_test.to_csv(\"../data/processed/x_test.csv\", index=False)\n",
                "y_train.to_csv(\"../data/processed/y_train.csv\", index=False)\n",
                "y_test.to_csv(\"../data/processed/y_test.csv\", index=False)"
            ]
        },
        {
            "cell_type": "code",
            "execution_count": 20,
            "metadata": {},
            "outputs": [
                {
                    "name": "stderr",
                    "output_type": "stream",
                    "text": [
                        "/home/vscode/.local/lib/python3.11/site-packages/sklearn/linear_model/_coordinate_descent.py:695: ConvergenceWarning: Objective did not converge. You might want to increase the number of iterations, check the scale of the features or consider increasing regularisation. Duality gap: 2.226e+08, tolerance: 6.299e+07\n",
                        "  model = cd_fast.enet_coordinate_descent(\n"
                    ]
                },
                {
                    "data": {
                        "text/plain": [
                            "0.9951294421825511"
                        ]
                    },
                    "execution_count": 20,
                    "metadata": {},
                    "output_type": "execute_result"
                }
            ],
            "source": [
                "from sklearn.linear_model import LogisticRegression, Lasso\n",
                "las_model = Lasso()\n",
                "las_model.fit(x_train,y_train)\n",
                "y_pred_las = las_model.predict(x_test)\n",
                "r2_score(y_test,y_pred_las)"
            ]
        }
    ],
    "metadata": {
        "kernelspec": {
            "display_name": "Python 3",
            "language": "python",
            "name": "python3"
        },
        "language_info": {
            "codemirror_mode": {
                "name": "ipython",
                "version": 3
            },
            "file_extension": ".py",
            "mimetype": "text/x-python",
            "name": "python",
            "nbconvert_exporter": "python",
            "pygments_lexer": "ipython3",
            "version": "3.11.4"
        },
        "orig_nbformat": 4
    },
    "nbformat": 4,
    "nbformat_minor": 2
}
